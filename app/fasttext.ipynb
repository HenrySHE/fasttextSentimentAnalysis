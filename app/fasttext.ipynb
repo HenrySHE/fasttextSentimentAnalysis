{
 "cells": [
  {
   "cell_type": "markdown",
   "metadata": {},
   "source": [
    "### 生成文本格式"
   ]
  },
  {
   "cell_type": "code",
   "execution_count": null,
   "metadata": {},
   "outputs": [],
   "source": [
    "import jieba\n",
    "import pandas as pd\n",
    "import random\n",
    "\n",
    "# 设定各类类别映射，如'technology'为1，'car'为2……\n",
    "cate_dic = {'technology':1, 'car':2, 'entertainment':3, 'military':4, 'sports':5}\n",
    "# 读取数据\n",
    "df_technology = pd.read_csv(\"./origin_data/technology_news.csv\", encoding='utf-8')\n",
    "df_technology = df_technology.dropna()\n",
    "\n",
    "df_car = pd.read_csv(\"./origin_data/car_news.csv\", encoding='utf-8')\n",
    "df_car = df_car.dropna()\n",
    "\n",
    "df_entertainment = pd.read_csv(\"./origin_data/entertainment_news.csv\", encoding='utf-8')\n",
    "df_entertainment = df_entertainment.dropna()\n",
    "\n",
    "df_military = pd.read_csv(\"./origin_data/military_news.csv\", encoding='utf-8')\n",
    "df_military = df_military.dropna()\n",
    "\n",
    "df_sports = pd.read_csv(\"./origin_data/sports_news.csv\", encoding='utf-8')\n",
    "df_sports = df_sports.dropna()\n",
    "# 转换为list列表的形式\n",
    "technology = df_technology.content.values.tolist()[1000:21000]\n",
    "car = df_car.content.values.tolist()[1000:21000]\n",
    "entertainment = df_entertainment.content.values.tolist()[:20000]\n",
    "military = df_military.content.values.tolist()[:20000]\n",
    "sports = df_sports.content.values.tolist()[:20000]"
   ]
  },
  {
   "cell_type": "markdown",
   "metadata": {},
   "source": [
    "### 载入停用词表 并定义本文处理函数，将文本处理为fasttext的输入格式"
   ]
  },
  {
   "cell_type": "code",
   "execution_count": null,
   "metadata": {},
   "outputs": [],
   "source": [
    "stopwords=pd.read_csv(\"origin_data/stopwords.txt\",index_col=False,quoting=3,sep=\"\\t\",names=['stopword'], encoding='utf-8')\n",
    "stopwords=stopwords['stopword'].values\n",
    "\n",
    "def preprocess_text(content_lines, sentences, category):\n",
    "    for line in content_lines:\n",
    "        try:\n",
    "            segs=jieba.lcut(line)\n",
    "            # 去标点、停用词等\n",
    "            segs = list(filter(lambda x:len(x)>1, segs))\n",
    "            segs = list(filter(lambda x:x not in stopwords, segs))\n",
    "            # 将句子处理成  __label__1 词语 词语 词语 ……的形式\n",
    "            sentences.append(\"__label__\"+str(category)+\" , \"+\" \".join(segs))\n",
    "        except Exception as e:\n",
    "            print(line)\n",
    "            continue"
   ]
  },
  {
   "cell_type": "code",
   "execution_count": null,
   "metadata": {},
   "outputs": [],
   "source": [
    "#生成训练数据\n",
    "sentences = []\n",
    "\n",
    "preprocess_text(technology, sentences, cate_dic['technology'])\n",
    "preprocess_text(car, sentences, cate_dic['car'])\n",
    "preprocess_text(entertainment, sentences, cate_dic['entertainment'])\n",
    "preprocess_text(military, sentences, cate_dic['military'])\n",
    "preprocess_text(sports, sentences, cate_dic['sports'])\n",
    "\n",
    "# 随机打乱数据\n",
    "random.shuffle(sentences)"
   ]
  },
  {
   "cell_type": "code",
   "execution_count": null,
   "metadata": {},
   "outputs": [],
   "source": [
    "# 将数据保存到train_data.txt中\n",
    "print(\"writing data to fasttext format...\")\n",
    "out = open('train_data.txt', 'w', encoding='utf-8')\n",
    "for sentence in sentences:\n",
    "    out.write(sentence+\"\\n\")\n",
    "print(\"done!\")"
   ]
  },
  {
   "cell_type": "markdown",
   "metadata": {},
   "source": [
    "### 调用fastText训练生成模型"
   ]
  },
  {
   "cell_type": "code",
   "execution_count": null,
   "metadata": {},
   "outputs": [],
   "source": [
    "import fasttext\n",
    "\"\"\"\n",
    "  训练一个监督模型, 返回一个模型对象\n",
    "\n",
    "  @param input:           训练数据文件路径\n",
    "  @param lr:              学习率\n",
    "  @param dim:             向量维度\n",
    "  @param ws:              cbow模型时使用\n",
    "  @param epoch:           次数\n",
    "  @param minCount:        词频阈值, 小于该值在初始化时会过滤掉\n",
    "  @param minCountLabel:   类别阈值，类别小于该值初始化时会过滤掉\n",
    "  @param minn:            构造subword时最小char个数\n",
    "  @param maxn:            构造subword时最大char个数\n",
    "  @param neg:             负采样\n",
    "  @param wordNgrams:      n-gram个数\n",
    "  @param loss:            损失函数类型, softmax, ns: 负采样, hs: 分层softmax\n",
    "  @param bucket:          词扩充大小, [A, B]: A语料中包含的词向量, B不在语料中的词向量\n",
    "  @param thread:          线程个数, 每个线程处理输入数据的一段, 0号线程负责loss输出\n",
    "  @param lrUpdateRate:    学习率更新\n",
    "  @param t:               负采样阈值\n",
    "  @param label:           类别前缀\n",
    "  @param verbose:         ??\n",
    "  @param pretrainedVectors: 预训练的词向量文件路径, 如果word出现在文件夹中初始化不再随机\n",
    "  @return model object\n",
    "\"\"\"\n",
    "classifier = fasttext.train_supervised(input='train_data.txt', dim=100, epoch=5,\n",
    "                                         lr=0.1, wordNgrams=2, loss='softmax')\n",
    "classifier.save_model('classifier.model')"
   ]
  },
  {
   "cell_type": "markdown",
   "metadata": {},
   "source": [
    "### 对模型效果进行评估"
   ]
  },
  {
   "cell_type": "code",
   "execution_count": null,
   "metadata": {},
   "outputs": [],
   "source": [
    "result = classifier.test('train_data.txt')\n",
    "print('P@1:', result[1])\n",
    "print('R@1:', result[2])\n",
    "print('Number of examples:', result[0])"
   ]
  }
 ],
 "metadata": {
  "kernelspec": {
   "display_name": "Python 3",
   "language": "python",
   "name": "python3"
  },
  "language_info": {
   "codemirror_mode": {
    "name": "ipython",
    "version": 3
   },
   "file_extension": ".py",
   "mimetype": "text/x-python",
   "name": "python",
   "nbconvert_exporter": "python",
   "pygments_lexer": "ipython3",
   "version": "3.6.5"
  }
 },
 "nbformat": 4,
 "nbformat_minor": 2
}
